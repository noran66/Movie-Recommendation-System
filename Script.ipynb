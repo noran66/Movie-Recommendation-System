{
 "cells": [
  {
   "cell_type": "code",
   "execution_count": 20,
   "id": "ecd4a922",
   "metadata": {},
   "outputs": [],
   "source": [
    "import pandas as pd\n",
    "import numpy as np\n",
    "from sklearn.metrics.pairwise import cosine_similarity\n",
    "from sklearn.decomposition import TruncatedSVD\n",
    "from sklearn.model_selection import train_test_split\n"
   ]
  },
  {
   "cell_type": "code",
   "execution_count": 21,
   "id": "c2876042",
   "metadata": {},
   "outputs": [],
   "source": [
    "ratings = pd.read_csv(r\"ml-100k\\u.data\", sep=\"\\t\",\n",
    "                      names=[\"userId\", \"movieId\", \"rating\", \"timestamp\"])\n",
    "\n",
    "ratings = ratings.drop(\"timestamp\", axis=1)"
   ]
  },
  {
   "cell_type": "code",
   "execution_count": 22,
   "id": "e30d162f",
   "metadata": {},
   "outputs": [],
   "source": [
    "train, test = train_test_split(ratings, test_size=0.2, random_state=42)"
   ]
  },
  {
   "cell_type": "code",
   "execution_count": 23,
   "id": "f422dd0c",
   "metadata": {},
   "outputs": [],
   "source": [
    "user_item_matrix = train.pivot_table(index=\"userId\", columns=\"movieId\", values=\"rating\").fillna(0)"
   ]
  },
  {
   "cell_type": "code",
   "execution_count": 24,
   "id": "2bf66ac2",
   "metadata": {},
   "outputs": [],
   "source": [
    "item_similarity = cosine_similarity(user_item_matrix.T)\n",
    "item_similarity_df = pd.DataFrame(item_similarity, \n",
    "                                  index=user_item_matrix.columns, \n",
    "                                  columns=user_item_matrix.columns)\n",
    "\n",
    "def recommend_item_based(user_id, k=10):\n",
    "    user_ratings = user_item_matrix.loc[user_id]\n",
    "    watched_movies = user_ratings[user_ratings > 0].index\n",
    "    \n",
    "    scores = item_similarity_df[watched_movies].sum(axis=1)\n",
    "    scores = scores.drop(watched_movies, errors=\"ignore\")\n",
    "    return scores.sort_values(ascending=False).head(k)"
   ]
  },
  {
   "cell_type": "code",
   "execution_count": 25,
   "id": "893d85db",
   "metadata": {},
   "outputs": [],
   "source": [
    "svd = TruncatedSVD(n_components=50, random_state=42)   \n",
    "matrix_svd = svd.fit_transform(user_item_matrix)\n",
    "pred_ratings = np.dot(matrix_svd, svd.components_)\n",
    "pred_df = pd.DataFrame(pred_ratings, \n",
    "                       index=user_item_matrix.index, \n",
    "                       columns=user_item_matrix.columns)\n",
    "\n",
    "def recommend_svd(user_id, k=10):\n",
    "    user_pred = pred_df.loc[user_id]\n",
    "    watched = user_item_matrix.loc[user_id][user_item_matrix.loc[user_id] > 0].index\n",
    "    unseen = [m for m in user_item_matrix.columns if m not in watched]\n",
    "    return user_pred.loc[unseen].sort_values(ascending=False).head(k)"
   ]
  },
  {
   "cell_type": "code",
   "execution_count": 26,
   "id": "e64342d5",
   "metadata": {},
   "outputs": [],
   "source": [
    "def precision_at_k(user_id, recs, k=5, threshold=4):\n",
    "    actual_high = test[(test.userId == user_id) & (test.rating >= threshold)].movieId\n",
    "    top_k = recs.head(k).index\n",
    "    hits = len(set(top_k) & set(actual_high))\n",
    "    return hits / k if k > 0 else 0"
   ]
  },
  {
   "cell_type": "code",
   "execution_count": 27,
   "id": "ea61739e",
   "metadata": {},
   "outputs": [
    {
     "name": "stdout",
     "output_type": "stream",
     "text": [
      "Item-based Recommendations: [174, 204, 191, 423, 172, 173, 210, 182, 211, 79]\n",
      "SVD Recommendations: [483, 182, 514, 523, 12, 143, 582, 508, 432, 204]\n",
      "Precision@5 (Item-based): 0.4\n",
      "Precision@5 (SVD): 0.6\n"
     ]
    }
   ],
   "source": [
    "user_id = 10\n",
    "\n",
    "item_recs = recommend_item_based(user_id, k=10)\n",
    "svd_recs = recommend_svd(user_id, k=10)\n",
    "\n",
    "print(\"Item-based Recommendations:\", item_recs.index.tolist())\n",
    "print(\"SVD Recommendations:\", svd_recs.index.tolist())\n",
    "\n",
    "print(\"Precision@5 (Item-based):\", precision_at_k(user_id, item_recs, k=5))\n",
    "print(\"Precision@5 (SVD):\", precision_at_k(user_id, svd_recs, k=5))"
   ]
  }
 ],
 "metadata": {
  "kernelspec": {
   "display_name": "Python 3",
   "language": "python",
   "name": "python3"
  },
  "language_info": {
   "codemirror_mode": {
    "name": "ipython",
    "version": 3
   },
   "file_extension": ".py",
   "mimetype": "text/x-python",
   "name": "python",
   "nbconvert_exporter": "python",
   "pygments_lexer": "ipython3",
   "version": "3.9.13"
  }
 },
 "nbformat": 4,
 "nbformat_minor": 5
}
